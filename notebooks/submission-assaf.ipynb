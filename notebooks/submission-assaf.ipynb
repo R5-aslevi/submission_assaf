{
 "cells": [
  {
   "cell_type": "code",
   "execution_count": 11,
   "metadata": {},
   "outputs": [],
   "source": [
    "import sys\n",
    "from functools import partial\n",
    "from zipfile import ZipFile\n",
    "import pandas as pd\n",
    "import numpy as np # linear algebra\n",
    "sys.path.append('../src')\n",
    "sys.path\n",
    "%matplotlib inline"
   ]
  },
  {
   "cell_type": "markdown",
   "metadata": {},
   "source": [
    "# Your contact details"
   ]
  },
  {
   "cell_type": "code",
   "execution_count": 2,
   "metadata": {},
   "outputs": [],
   "source": [
    "# If you're having problem importing this file, copy and paste the contents of \"uatt.py\" in this cell instead\n",
    "# of the import statement\n",
    "from uatt import submit\n",
    "my_submit = partial(submit, \"Matan Cohen\", \"IAI\", \"matanco88@gmail.com\", \"050\")"
   ]
  },
  {
   "cell_type": "markdown",
   "metadata": {},
   "source": [
    "# Read data"
   ]
  },
  {
   "cell_type": "code",
   "execution_count": 3,
   "metadata": {},
   "outputs": [
    {
     "data": {
      "text/html": [
       "<div>\n",
       "<style scoped>\n",
       "    .dataframe tbody tr th:only-of-type {\n",
       "        vertical-align: middle;\n",
       "    }\n",
       "\n",
       "    .dataframe tbody tr th {\n",
       "        vertical-align: top;\n",
       "    }\n",
       "\n",
       "    .dataframe thead th {\n",
       "        text-align: right;\n",
       "    }\n",
       "</style>\n",
       "<table border=\"1\" class=\"dataframe\">\n",
       "  <thead>\n",
       "    <tr style=\"text-align: right;\">\n",
       "      <th></th>\n",
       "      <th>id</th>\n",
       "      <th>label</th>\n",
       "      <th>content</th>\n",
       "    </tr>\n",
       "  </thead>\n",
       "  <tbody>\n",
       "    <tr>\n",
       "      <th>2596</th>\n",
       "      <td>19800</td>\n",
       "      <td>rsu</td>\n",
       "      <td>EXHIBIT 10.1\\n\\n\\n\\nUNDER THE WATTS WATER TECH...</td>\n",
       "    </tr>\n",
       "    <tr>\n",
       "      <th>784</th>\n",
       "      <td>03070</td>\n",
       "      <td>credit</td>\n",
       "      <td>Exhibit 4.25\\n\\nJanuary 15, 2004\\n\\nKentucky U...</td>\n",
       "    </tr>\n",
       "    <tr>\n",
       "      <th>1092</th>\n",
       "      <td>06150</td>\n",
       "      <td>employment</td>\n",
       "      <td>##### \\n\\nExhibit 10.18(d)\\n\\n\\n\\nThis EMPLOYM...</td>\n",
       "    </tr>\n",
       "    <tr>\n",
       "      <th>3351</th>\n",
       "      <td>27350</td>\n",
       "      <td>rsu</td>\n",
       "      <td>CUISINE SOLUTIONS, INC.\\n\\n\\n\\n(2007 EQUITY IN...</td>\n",
       "    </tr>\n",
       "    <tr>\n",
       "      <th>3315</th>\n",
       "      <td>26990</td>\n",
       "      <td>rsu</td>\n",
       "      <td>Exhibit 10.20 \\n\\n50% Acceleration if Terminat...</td>\n",
       "    </tr>\n",
       "    <tr>\n",
       "      <th>1150</th>\n",
       "      <td>06730</td>\n",
       "      <td>employment</td>\n",
       "      <td>\\n\\n\\n  \\n\\n\\nExhibit 10.5\\n\\n\\n\\nThis AGREE...</td>\n",
       "    </tr>\n",
       "    <tr>\n",
       "      <th>963</th>\n",
       "      <td>04860</td>\n",
       "      <td>employment</td>\n",
       "      <td>Ex. 10.1\\n\\n  \\n\\n\\n\\n\\nWITH SILVERLEAF RESORT...</td>\n",
       "    </tr>\n",
       "    <tr>\n",
       "      <th>3607</th>\n",
       "      <td>29910</td>\n",
       "      <td>rsu</td>\n",
       "      <td>Exhibit 10.2 \\n\\nF.N.B. CORPORATION\\n\\n\\n(Purs...</td>\n",
       "    </tr>\n",
       "    <tr>\n",
       "      <th>4289</th>\n",
       "      <td>36730</td>\n",
       "      <td>rsu</td>\n",
       "      <td>\\n\\n\\n  \\n\\n\\nExhibit 10.4 \\n\\n\\n\\nThis Rest...</td>\n",
       "    </tr>\n",
       "    <tr>\n",
       "      <th>1153</th>\n",
       "      <td>06760</td>\n",
       "      <td>employment</td>\n",
       "      <td>\\n\\n\\n  \\n\\n\\n\\n\\n  \\n\\n\\nThis Employment Ag...</td>\n",
       "    </tr>\n",
       "  </tbody>\n",
       "</table>\n",
       "</div>"
      ],
      "text/plain": [
       "         id       label                                            content\n",
       "2596  19800         rsu  EXHIBIT 10.1\\n\\n\\n\\nUNDER THE WATTS WATER TECH...\n",
       "784   03070      credit  Exhibit 4.25\\n\\nJanuary 15, 2004\\n\\nKentucky U...\n",
       "1092  06150  employment  ##### \\n\\nExhibit 10.18(d)\\n\\n\\n\\nThis EMPLOYM...\n",
       "3351  27350         rsu  CUISINE SOLUTIONS, INC.\\n\\n\\n\\n(2007 EQUITY IN...\n",
       "3315  26990         rsu  Exhibit 10.20 \\n\\n50% Acceleration if Terminat...\n",
       "1150  06730  employment    \\n\\n\\n  \\n\\n\\nExhibit 10.5\\n\\n\\n\\nThis AGREE...\n",
       "963   04860  employment  Ex. 10.1\\n\\n  \\n\\n\\n\\n\\nWITH SILVERLEAF RESORT...\n",
       "3607  29910         rsu  Exhibit 10.2 \\n\\nF.N.B. CORPORATION\\n\\n\\n(Purs...\n",
       "4289  36730         rsu    \\n\\n\\n  \\n\\n\\nExhibit 10.4 \\n\\n\\n\\nThis Rest...\n",
       "1153  06760  employment    \\n\\n\\n  \\n\\n\\n\\n\\n  \\n\\n\\nThis Employment Ag..."
      ]
     },
     "execution_count": 3,
     "metadata": {},
     "output_type": "execute_result"
    }
   ],
   "source": [
    "data = []\n",
    "with ZipFile(\"../data/data.zip\") as z:\n",
    "    for fname in z.namelist():\n",
    "        if not fname.endswith('.txt') or not fname.startswith('data'):\n",
    "            continue\n",
    "        content = z.read(fname).decode('utf8')\n",
    "        label, idx = fname[5:-4].split('-', 1)\n",
    "        data.append((idx,label,content,))\n",
    "df_train = pd.DataFrame(data, columns=(\"id\", \"label\", \"content\"))\n",
    "df_train.sample(10)"
   ]
  },
  {
   "cell_type": "code",
   "execution_count": 4,
   "metadata": {},
   "outputs": [
    {
     "data": {
      "text/html": [
       "<div>\n",
       "<style scoped>\n",
       "    .dataframe tbody tr th:only-of-type {\n",
       "        vertical-align: middle;\n",
       "    }\n",
       "\n",
       "    .dataframe tbody tr th {\n",
       "        vertical-align: top;\n",
       "    }\n",
       "\n",
       "    .dataframe thead th {\n",
       "        text-align: right;\n",
       "    }\n",
       "</style>\n",
       "<table border=\"1\" class=\"dataframe\">\n",
       "  <thead>\n",
       "    <tr style=\"text-align: right;\">\n",
       "      <th></th>\n",
       "      <th>id</th>\n",
       "      <th>content</th>\n",
       "    </tr>\n",
       "  </thead>\n",
       "  <tbody>\n",
       "    <tr>\n",
       "      <th>326</th>\n",
       "      <td>kdcgm</td>\n",
       "      <td>Exhibit 10.31 \\n\\n\\n\\nPURSUANT TO THE SEACOR H...</td>\n",
       "    </tr>\n",
       "    <tr>\n",
       "      <th>52</th>\n",
       "      <td>bvfdc</td>\n",
       "      <td>Exhibit 3.1\\n\\n\\n\\nOF THE\\n\\nARTICLES OF INCOR...</td>\n",
       "    </tr>\n",
       "    <tr>\n",
       "      <th>178</th>\n",
       "      <td>fvpzx</td>\n",
       "      <td>Exhibit 10.2\\n\\n\\n\\nThis Registration Rights A...</td>\n",
       "    </tr>\n",
       "    <tr>\n",
       "      <th>710</th>\n",
       "      <td>xdpqc</td>\n",
       "      <td>EXHIBIT 10.1\\n\\nJAMES E. GOULD  \\n\\n\\nTHIS AGR...</td>\n",
       "    </tr>\n",
       "    <tr>\n",
       "      <th>104</th>\n",
       "      <td>dnbxa</td>\n",
       "      <td>EXHIBIT 10.31\\n\\n\\n\\n  \\n\\n\\nTHIS EMPLOYMENT A...</td>\n",
       "    </tr>\n",
       "    <tr>\n",
       "      <th>379</th>\n",
       "      <td>mgots</td>\n",
       "      <td>LONG TERM INCENTIVE\\n\\n\\n\\nThis Long Term Ince...</td>\n",
       "    </tr>\n",
       "    <tr>\n",
       "      <th>224</th>\n",
       "      <td>hduys</td>\n",
       "      <td>EXHIBIT 10.1\\n\\n  \\n\\n\\n\\n\\n  \\n\\n\\nThis Emplo...</td>\n",
       "    </tr>\n",
       "    <tr>\n",
       "      <th>309</th>\n",
       "      <td>joenm</td>\n",
       "      <td>Exhibit 10.1\\n\\n  \\n\\n\\n\\n\\nMarch 1, 2015 Awar...</td>\n",
       "    </tr>\n",
       "    <tr>\n",
       "      <th>193</th>\n",
       "      <td>gjqfd</td>\n",
       "      <td>Exhibit 10.02.06 \\n\\n\\n\\nThis Employment Agree...</td>\n",
       "    </tr>\n",
       "    <tr>\n",
       "      <th>40</th>\n",
       "      <td>bncsq</td>\n",
       "      <td>Exhibit 3.2\\n\\n\\n\\nof\\n\\nRALCORP HOLDINGS, INC...</td>\n",
       "    </tr>\n",
       "  </tbody>\n",
       "</table>\n",
       "</div>"
      ],
      "text/plain": [
       "        id                                            content\n",
       "326  kdcgm  Exhibit 10.31 \\n\\n\\n\\nPURSUANT TO THE SEACOR H...\n",
       "52   bvfdc  Exhibit 3.1\\n\\n\\n\\nOF THE\\n\\nARTICLES OF INCOR...\n",
       "178  fvpzx  Exhibit 10.2\\n\\n\\n\\nThis Registration Rights A...\n",
       "710  xdpqc  EXHIBIT 10.1\\n\\nJAMES E. GOULD  \\n\\n\\nTHIS AGR...\n",
       "104  dnbxa  EXHIBIT 10.31\\n\\n\\n\\n  \\n\\n\\nTHIS EMPLOYMENT A...\n",
       "379  mgots  LONG TERM INCENTIVE\\n\\n\\n\\nThis Long Term Ince...\n",
       "224  hduys  EXHIBIT 10.1\\n\\n  \\n\\n\\n\\n\\n  \\n\\n\\nThis Emplo...\n",
       "309  joenm  Exhibit 10.1\\n\\n  \\n\\n\\n\\n\\nMarch 1, 2015 Awar...\n",
       "193  gjqfd  Exhibit 10.02.06 \\n\\n\\n\\nThis Employment Agree...\n",
       "40   bncsq  Exhibit 3.2\\n\\n\\n\\nof\\n\\nRALCORP HOLDINGS, INC..."
      ]
     },
     "execution_count": 4,
     "metadata": {},
     "output_type": "execute_result"
    }
   ],
   "source": [
    "data = []\n",
    "with ZipFile(\"../data/test_data.zip\") as z:\n",
    "    for fname in z.namelist():\n",
    "        content = z.read(fname).decode('utf8')\n",
    "        if not fname.endswith('.txt') or not fname.startswith('test'):\n",
    "            continue\n",
    "        idx = fname[5:-4]\n",
    "        data.append((idx,content,))\n",
    "df_test = pd.DataFrame(data, columns=(\"id\", \"content\"))\n",
    "df_test.sample(10)"
   ]
  },
  {
   "cell_type": "markdown",
   "metadata": {},
   "source": [
    "# Plot distribution of labels"
   ]
  },
  {
   "cell_type": "code",
   "execution_count": 5,
   "metadata": {},
   "outputs": [
    {
     "data": {
      "text/plain": [
       "<AxesSubplot:>"
      ]
     },
     "execution_count": 5,
     "metadata": {},
     "output_type": "execute_result"
    },
    {
     "data": {
      "image/png": "[encoded data removed]",
      "text/plain": [
       "<Figure size 432x288 with 1 Axes>"
      ]
     },
     "metadata": {
      "needs_background": "light"
     },
     "output_type": "display_data"
    }
   ],
   "source": [
    "df_train[\"label\"].hist()"
   ]
  },
  {
   "cell_type": "markdown",
   "metadata": {},
   "source": [
    "# Submit\n",
    "## Sample submission 1: \"All RSU\""
   ]
  },
  {
   "cell_type": "code",
   "execution_count": 6,
   "metadata": {},
   "outputs": [
    {
     "data": {
      "text/html": [
       "<div>\n",
       "<style scoped>\n",
       "    .dataframe tbody tr th:only-of-type {\n",
       "        vertical-align: middle;\n",
       "    }\n",
       "\n",
       "    .dataframe tbody tr th {\n",
       "        vertical-align: top;\n",
       "    }\n",
       "\n",
       "    .dataframe thead th {\n",
       "        text-align: right;\n",
       "    }\n",
       "</style>\n",
       "<table border=\"1\" class=\"dataframe\">\n",
       "  <thead>\n",
       "    <tr style=\"text-align: right;\">\n",
       "      <th></th>\n",
       "      <th>id</th>\n",
       "      <th>content</th>\n",
       "      <th>label</th>\n",
       "    </tr>\n",
       "  </thead>\n",
       "  <tbody>\n",
       "    <tr>\n",
       "      <th>661</th>\n",
       "      <td>vkzoe</td>\n",
       "      <td>##### \\n\\nExhibit 10.5 \\n\\nExhibit C\\n\\nHARMAN...</td>\n",
       "      <td>rsu</td>\n",
       "    </tr>\n",
       "    <tr>\n",
       "      <th>59</th>\n",
       "      <td>capdi</td>\n",
       "      <td>Exhibit 10.1 \\n\\n![LOGO](g51268dsp006.jpg)\\n\\n...</td>\n",
       "      <td>rsu</td>\n",
       "    </tr>\n",
       "    <tr>\n",
       "      <th>254</th>\n",
       "      <td>hxiuv</td>\n",
       "      <td>Exhibit 10.3(b)\\n\\nThe information that is mar...</td>\n",
       "      <td>rsu</td>\n",
       "    </tr>\n",
       "    <tr>\n",
       "      <th>19</th>\n",
       "      <td>aroji</td>\n",
       "      <td>Exhibit 10.2\\n\\n  \\n\\n\\nBAKER HUGHES INCORPORA...</td>\n",
       "      <td>rsu</td>\n",
       "    </tr>\n",
       "    <tr>\n",
       "      <th>802</th>\n",
       "      <td>zmaxf</td>\n",
       "      <td>Exhibit 10.31 \\n\\nCOOPER-STANDARD HOLDINGS INC...</td>\n",
       "      <td>rsu</td>\n",
       "    </tr>\n",
       "    <tr>\n",
       "      <th>211</th>\n",
       "      <td>guxqe</td>\n",
       "      <td>Exhibit 3.1\\n\\nAMENDED AND RESTATED\\n\\n\\n\\nOF\\...</td>\n",
       "      <td>rsu</td>\n",
       "    </tr>\n",
       "    <tr>\n",
       "      <th>114</th>\n",
       "      <td>ebisd</td>\n",
       "      <td>Exhibit 10.4\\n\\n\\n\\nAGREEMENT effective Januar...</td>\n",
       "      <td>rsu</td>\n",
       "    </tr>\n",
       "    <tr>\n",
       "      <th>37</th>\n",
       "      <td>biceo</td>\n",
       "      <td>Exhibit 10.2 \\n\\n\\n\\nTHIS REGISTRATION RIGHTS ...</td>\n",
       "      <td>rsu</td>\n",
       "    </tr>\n",
       "    <tr>\n",
       "      <th>169</th>\n",
       "      <td>fmzes</td>\n",
       "      <td>\\nExhibit 10.7\\n\\n  \\n\\n\\nULTICOM, INC.\\n\\n\\...</td>\n",
       "      <td>rsu</td>\n",
       "    </tr>\n",
       "    <tr>\n",
       "      <th>387</th>\n",
       "      <td>mltea</td>\n",
       "      <td>Exhibit 10-3-3 \\n\\n\\n\\nPERFORMANCE SHARES \\n\\n...</td>\n",
       "      <td>rsu</td>\n",
       "    </tr>\n",
       "  </tbody>\n",
       "</table>\n",
       "</div>"
      ],
      "text/plain": [
       "        id                                            content label\n",
       "661  vkzoe  ##### \\n\\nExhibit 10.5 \\n\\nExhibit C\\n\\nHARMAN...   rsu\n",
       "59   capdi  Exhibit 10.1 \\n\\n![LOGO](g51268dsp006.jpg)\\n\\n...   rsu\n",
       "254  hxiuv  Exhibit 10.3(b)\\n\\nThe information that is mar...   rsu\n",
       "19   aroji  Exhibit 10.2\\n\\n  \\n\\n\\nBAKER HUGHES INCORPORA...   rsu\n",
       "802  zmaxf  Exhibit 10.31 \\n\\nCOOPER-STANDARD HOLDINGS INC...   rsu\n",
       "211  guxqe  Exhibit 3.1\\n\\nAMENDED AND RESTATED\\n\\n\\n\\nOF\\...   rsu\n",
       "114  ebisd  Exhibit 10.4\\n\\n\\n\\nAGREEMENT effective Januar...   rsu\n",
       "37   biceo  Exhibit 10.2 \\n\\n\\n\\nTHIS REGISTRATION RIGHTS ...   rsu\n",
       "169  fmzes    \\nExhibit 10.7\\n\\n  \\n\\n\\nULTICOM, INC.\\n\\n\\...   rsu\n",
       "387  mltea  Exhibit 10-3-3 \\n\\n\\n\\nPERFORMANCE SHARES \\n\\n...   rsu"
      ]
     },
     "execution_count": 6,
     "metadata": {},
     "output_type": "execute_result"
    }
   ],
   "source": [
    "# for all documents\n",
    "df_test[\"label\"] = \"rsu\"\n",
    "submission = dict(df_test[[\"id\",\"label\"]].values)\n",
    "#submission name must be unique\n",
    "submission_name = \"uri_most_likely\"\n",
    "#my_submit(submission_name, submission)\n",
    "df_test.sample(10)"
   ]
  },
  {
   "cell_type": "markdown",
   "metadata": {},
   "source": [
    "## Sample submission 2: Submission by string search\n"
   ]
  },
  {
   "cell_type": "code",
   "execution_count": 24,
   "metadata": {},
   "outputs": [
    {
     "data": {
      "text/plain": [
       "0.65085158150852"
      ]
     },
     "execution_count": 24,
     "metadata": {},
     "output_type": "execute_result"
    }
   ],
   "source": [
    "df_test[\"label\"] = \"rsu\"\n",
    "df_test.loc[df_test[\"content\"].str.contains(\"EMPLOYMENT\"),\"label\"] = 'employment'\n",
    "df_test.loc[df_test[\"content\"].str.contains(\"CREDIT\"),\"label\"] = 'credit'\n",
    "df_test.loc[df_test[\"content\"].str.contains(\"BYLAWS\"),\"label\"] = 'bylaws'\n",
    "df_test.loc[df_test[\"content\"].str.contains(\"REGISTRAR\"),\"label\"] = 'rra'\n",
    "df_test.loc[df_test[\"content\"].str.contains(\"SELLER\"),\"label\"] = 'SPA'\n",
    "submission = dict(df_test[[\"id\",\"label\"]].values)\n",
    "submission_name = \"matan_string_search\"\n",
    "my_submit(submission_name, submission)\n",
    "#df_test.sample(10)"
   ]
  },
  {
   "cell_type": "code",
   "execution_count": 20,
   "metadata": {},
   "outputs": [
    {
     "data": {
      "text/plain": [
       "(4427, 254636)"
      ]
     },
     "execution_count": 20,
     "metadata": {},
     "output_type": "execute_result"
    }
   ],
   "source": [
    "import re\n",
    "import matplotlib.pyplot as plt\n",
    "from nltk.corpus import stopwords\n",
    "from nltk.stem import PorterStemmer\n",
    "from sklearn.feature_extraction.text import TfidfVectorizer\n",
    "from sklearn.pipeline import Pipeline\n",
    "from sklearn.metrics import classification_report, confusion_matrix\n",
    "from sklearn.model_selection import train_test_split\n",
    "from sklearn.feature_selection import SelectKBest, chi2\n",
    "from sqlite3 import Error\n",
    "from sklearn.ensemble import RandomForestClassifier\n",
    "import sqlite3\n",
    "import pickle\n",
    "import nltk\n",
    "#nltk.download('stopwords')\n",
    "\n",
    "stemmer = PorterStemmer()\n",
    "words = stopwords.words(\"english\")\n",
    "df_train['cleaned'] = df_train['content'].apply(lambda x: \" \".join([stemmer.stem(i) for i in re.sub(\"[^a-zA-Z]\", \" \", x).split() if i not in words]).lower())\n",
    "df_test['cleaned'] = df_test['content'].apply(lambda x: \" \".join([stemmer.stem(i) for i in re.sub(\"[^a-zA-Z]\", \" \", x).split() if i not in words]).lower())\n",
    "#df_train.head()\n",
    "vectorizer = TfidfVectorizer(min_df= 3, stop_words=\"english\", sublinear_tf=True, norm='l2', ngram_range=(1, 2))\n",
    "final_features = vectorizer.fit_transform(df_train['content']).toarray()\n",
    "final_features.shape"
   ]
  },
  {
   "cell_type": "code",
   "execution_count": 21,
   "metadata": {},
   "outputs": [
    {
     "data": {
      "text/html": [
       "<div>\n",
       "<style scoped>\n",
       "    .dataframe tbody tr th:only-of-type {\n",
       "        vertical-align: middle;\n",
       "    }\n",
       "\n",
       "    .dataframe tbody tr th {\n",
       "        vertical-align: top;\n",
       "    }\n",
       "\n",
       "    .dataframe thead th {\n",
       "        text-align: right;\n",
       "    }\n",
       "</style>\n",
       "<table border=\"1\" class=\"dataframe\">\n",
       "  <thead>\n",
       "    <tr style=\"text-align: right;\">\n",
       "      <th></th>\n",
       "      <th>id</th>\n",
       "      <th>content</th>\n",
       "      <th>label</th>\n",
       "      <th>cleaned</th>\n",
       "    </tr>\n",
       "  </thead>\n",
       "  <tbody>\n",
       "    <tr>\n",
       "      <th>154</th>\n",
       "      <td>fcuap</td>\n",
       "      <td>Exhibit 10.3 \\n\\nTHE CHUBB CORPORATION \\n\\nLON...</td>\n",
       "      <td>rsu</td>\n",
       "      <td>exhibit the chubb corpor long term incent plan...</td>\n",
       "    </tr>\n",
       "    <tr>\n",
       "      <th>208</th>\n",
       "      <td>gslpc</td>\n",
       "      <td>Exhibit 10.19\\n\\nFRANCESCA’S HOLDINGS CORPORAT...</td>\n",
       "      <td>rsu</td>\n",
       "      <td>exhibit francesca s hold corpor equiti incent ...</td>\n",
       "    </tr>\n",
       "    <tr>\n",
       "      <th>805</th>\n",
       "      <td>znfsh</td>\n",
       "      <td>\\n\\n\\nExhibit 10.8\\n\\n\\n\\n  \\n\\n\\nBy and bet...</td>\n",
       "      <td>rsu</td>\n",
       "      <td>exhibit by the sharehold beij ruijieao bio tec...</td>\n",
       "    </tr>\n",
       "    <tr>\n",
       "      <th>518</th>\n",
       "      <td>qnzgb</td>\n",
       "      <td>\\nQuickLinks \\-- Click here to rapidly navig...</td>\n",
       "      <td>employment</td>\n",
       "      <td>quicklink click rapidli navig document exhibit...</td>\n",
       "    </tr>\n",
       "    <tr>\n",
       "      <th>808</th>\n",
       "      <td>zqoru</td>\n",
       "      <td>SECOND AMENDMENT TO\\n\\n\\n\\nThis SECOND AMENDME...</td>\n",
       "      <td>employment</td>\n",
       "      <td>second amend to thi second amend to employ agr...</td>\n",
       "    </tr>\n",
       "    <tr>\n",
       "      <th>516</th>\n",
       "      <td>qnjdp</td>\n",
       "      <td>Exhibit 10.3  \\n\\n\\n![](lin8kx22x1.jpg)\\n\\n___...</td>\n",
       "      <td>rsu</td>\n",
       "      <td>exhibit lin kx x jpg to on award option purcha...</td>\n",
       "    </tr>\n",
       "    <tr>\n",
       "      <th>552</th>\n",
       "      <td>rvkeg</td>\n",
       "      <td>Exhibit 2.5\\n\\n\\n\\nSTOCK PURCHASE AGREEMENT\\n\\...</td>\n",
       "      <td>SPA</td>\n",
       "      <td>exhibit stock purchas agreement thi stock purc...</td>\n",
       "    </tr>\n",
       "    <tr>\n",
       "      <th>294</th>\n",
       "      <td>jenok</td>\n",
       "      <td>Exhibit 10.1  \\n  \\n\\n\\nTHIS STOCK PURCHASE AG...</td>\n",
       "      <td>rsu</td>\n",
       "      <td>exhibit thi stock purchas agreement date march...</td>\n",
       "    </tr>\n",
       "    <tr>\n",
       "      <th>430</th>\n",
       "      <td>npyak</td>\n",
       "      <td>Exhibit 10a \\n\\nVERIZON COMMUNICATIONS INC. LO...</td>\n",
       "      <td>rsu</td>\n",
       "      <td>exhibit verizon commun inc long term incent pl...</td>\n",
       "    </tr>\n",
       "    <tr>\n",
       "      <th>707</th>\n",
       "      <td>xbzhr</td>\n",
       "      <td>Exhibit 10.2\\n\\n  \\n\\n\\nMOSCOW CABLECOM CORP.\\...</td>\n",
       "      <td>rsu</td>\n",
       "      <td>exhibit moscow cablecom corp thi agreement agr...</td>\n",
       "    </tr>\n",
       "  </tbody>\n",
       "</table>\n",
       "</div>"
      ],
      "text/plain": [
       "        id                                            content       label  \\\n",
       "154  fcuap  Exhibit 10.3 \\n\\nTHE CHUBB CORPORATION \\n\\nLON...         rsu   \n",
       "208  gslpc  Exhibit 10.19\\n\\nFRANCESCA’S HOLDINGS CORPORAT...         rsu   \n",
       "805  znfsh    \\n\\n\\nExhibit 10.8\\n\\n\\n\\n  \\n\\n\\nBy and bet...         rsu   \n",
       "518  qnzgb    \\nQuickLinks \\-- Click here to rapidly navig...  employment   \n",
       "808  zqoru  SECOND AMENDMENT TO\\n\\n\\n\\nThis SECOND AMENDME...  employment   \n",
       "516  qnjdp  Exhibit 10.3  \\n\\n\\n![](lin8kx22x1.jpg)\\n\\n___...         rsu   \n",
       "552  rvkeg  Exhibit 2.5\\n\\n\\n\\nSTOCK PURCHASE AGREEMENT\\n\\...         SPA   \n",
       "294  jenok  Exhibit 10.1  \\n  \\n\\n\\nTHIS STOCK PURCHASE AG...         rsu   \n",
       "430  npyak  Exhibit 10a \\n\\nVERIZON COMMUNICATIONS INC. LO...         rsu   \n",
       "707  xbzhr  Exhibit 10.2\\n\\n  \\n\\n\\nMOSCOW CABLECOM CORP.\\...         rsu   \n",
       "\n",
       "                                               cleaned  \n",
       "154  exhibit the chubb corpor long term incent plan...  \n",
       "208  exhibit francesca s hold corpor equiti incent ...  \n",
       "805  exhibit by the sharehold beij ruijieao bio tec...  \n",
       "518  quicklink click rapidli navig document exhibit...  \n",
       "808  second amend to thi second amend to employ agr...  \n",
       "516  exhibit lin kx x jpg to on award option purcha...  \n",
       "552  exhibit stock purchas agreement thi stock purc...  \n",
       "294  exhibit thi stock purchas agreement date march...  \n",
       "430  exhibit verizon commun inc long term incent pl...  \n",
       "707  exhibit moscow cablecom corp thi agreement agr...  "
      ]
     },
     "execution_count": 21,
     "metadata": {},
     "output_type": "execute_result"
    }
   ],
   "source": [
    "from sklearn.linear_model import LogisticRegression\n",
    "#X = df_train['content']\n",
    "#Y = df_train['label']\n",
    "#X_train, X_test, y_train, y_test = train_test_split(X, Y, test_size=0.1)\n",
    "X_train = df_train['cleaned']\n",
    "y_train = df_train['label']\n",
    "X_test = df_test['cleaned']\n",
    "y_test = df_test['label']\n",
    "\n",
    "pipeline = Pipeline([('vect', vectorizer),\n",
    "                     ('chi',  SelectKBest(chi2, k=1200)),\n",
    "                     ('clf', LogisticRegression(random_state=0))])\n",
    "\n",
    "model = pipeline.fit(X_train, y_train)\n",
    "with open('LogisticRegression.pickle', 'wb') as f:\n",
    "    pickle.dump(model, f)\n",
    "df_test['label'] = model.predict(X_test)\n",
    "df_test.sample(10)\n",
    "#ytest = np.array(y_test)\n",
    "\n",
    "# confusion matrix and classification report(precision, recall, F1-score)\n",
    "#print(classification_report(ytest, model.predict(X_test)))\n",
    "#print(confusion_matrix(ytest, model.predict(X_test)))"
   ]
  },
  {
   "cell_type": "code",
   "execution_count": 22,
   "metadata": {},
   "outputs": [
    {
     "data": {
      "text/plain": [
       "0.94038929440389"
      ]
     },
     "execution_count": 22,
     "metadata": {},
     "output_type": "execute_result"
    }
   ],
   "source": [
    "submission = dict(df_test[[\"id\",\"label\"]].values)\n",
    "submission_name = \"Matan_Cohen_NLP_clean_text\"\n",
    "my_submit(submission_name, submission)"
   ]
  },
  {
   "cell_type": "markdown",
   "metadata": {},
   "source": [
    "# See how you rank\n",
    "Leaderboard is available at:\n",
    "https://goren.ml/uattcontract\n",
    "\n",
    "Accuracy of **90%** and above is required to pass the test\n",
    "\n",
    "## Leaderboard not refreshing ?\n",
    "try adding a random suffix to it, like this one:"
   ]
  },
  {
   "cell_type": "code",
   "execution_count": null,
   "metadata": {},
   "outputs": [],
   "source": []
  },
  {
   "cell_type": "code",
   "execution_count": 25,
   "metadata": {},
   "outputs": [
    {
     "data": {
      "text/html": [
       "<a href=\"https://goren.ml/uattcontract/?aUovXbF=AcnKZMR\" target=\"_blank\">Go to Leaderboard</a>"
      ],
      "text/plain": [
       "<IPython.core.display.HTML object>"
      ]
     },
     "execution_count": 25,
     "metadata": {},
     "output_type": "execute_result"
    }
   ],
   "source": [
    "import random, string\n",
    "from IPython.display import HTML\n",
    "rand_str = lambda: \"\".join(random.sample(string.ascii_letters,7))\n",
    "HTML('<a href=\"https://goren.ml/uattcontract/?{k}={v}\" target=\"_blank\">Go to Leaderboard</a>'.format(k=rand_str(),v=rand_str()))"
   ]
  },
  {
   "cell_type": "code",
   "execution_count": null,
   "metadata": {},
   "outputs": [],
   "source": []
  }
 ],
 "metadata": {
  "kernelspec": {
   "display_name": "Python 3 (ipykernel)",
   "language": "python",
   "name": "python3"
  },
  "language_info": {
   "codemirror_mode": {
    "name": "ipython",
    "version": 3
   },
   "file_extension": ".py",
   "mimetype": "text/x-python",
   "name": "python",
   "nbconvert_exporter": "python",
   "pygments_lexer": "ipython3",
   "version": "3.9.7"
  }
 },
 "nbformat": 4,
 "nbformat_minor": 4
}
